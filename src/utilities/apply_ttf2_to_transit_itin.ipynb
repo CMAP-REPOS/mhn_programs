{
 "cells": [
  {
   "cell_type": "code",
   "execution_count": 1,
   "id": "01bc093f",
   "metadata": {},
   "outputs": [],
   "source": [
    "import os\n",
    "from openpyxl import load_workbook"
   ]
  },
  {
   "cell_type": "code",
   "execution_count": 2,
   "id": "ffc24089",
   "metadata": {},
   "outputs": [],
   "source": [
    "# project coding spreadsheet\n",
    "proj_coding_spreadsheet_dir = r'C:\\Users\\toleary\\0_Tasks\\MHN\\RCP_Evaluation\\MHN\\import\\RSP_Coding\\RCP22206_CottageGroveBPC.xlsx' #replace with csv filepath\n",
    "worksheet_with_ttf2_links = 'ttf2_postprocessing' #replace with worksheet name\n",
    "\n",
    "# output transaction file location (folder that itin files are located)\n",
    "batchin_file_dir = r'C:\\Users\\toleary\\0_Tasks\\MHN\\RCP_Evaluation\\MHN\\output\\final\\RCP22206_CottageGroveBPC\\transit\\700'"
   ]
  },
  {
   "cell_type": "code",
   "execution_count": 3,
   "id": "4a43de52",
   "metadata": {},
   "outputs": [],
   "source": [
    "# get relevant ttf2 links\n",
    "links=[]\n",
    "wb = load_workbook(filename = proj_coding_spreadsheet_dir, read_only=True)\n",
    "links_ws = wb[worksheet_with_ttf2_links]\n",
    "for row in links_ws.values:\n",
    "    if all(type(l)==int for l in row): #remove headers or other non-node rows\n",
    "        links.append(list(row))\n",
    "wb.close()\n",
    "\n",
    "# add reverse direction\n",
    "links_ba = [[b, a] for pair in links for a, b in [pair]]\n",
    "links += links_ba"
   ]
  },
  {
   "cell_type": "code",
   "execution_count": 4,
   "id": "faf2475c",
   "metadata": {},
   "outputs": [],
   "source": [
    "# for file in os.listdir(batchin_file_dir):\n",
    "#     if 'bus.itinerary' in file:\n",
    "#         print(f'processing {file}...')\n",
    "#         with open(os.path.join(batchin_file_dir, file), 'r') as f:\n",
    "#             for row in f:\n",
    "#                 if row.startswith('a'): #start of tr line\n",
    "#                     busline = row\n",
    "#                     prev_node = None \n",
    "#                 elif row.strip().split(' ')[0].isnumeric():\n",
    "#                     curr_node = row.strip().split(' ')[0]\n",
    "#                     if prev_node:\n",
    "#                         curr_link = [int(prev_node), int(curr_node)]\n",
    "#                         if curr_link in links:\n",
    "#                             print(f'{busline.strip()} {curr_link}')\n",
    "#                     else:\n",
    "#                         prev_node = curr_node\n",
    "\n",
    "itin_files = [file for file in os.listdir(batchin_file_dir) if 'bus.itinerary' in file]"
   ]
  },
  {
   "cell_type": "code",
   "execution_count": 5,
   "id": "d4273ab2",
   "metadata": {},
   "outputs": [
    {
     "name": "stdout",
     "output_type": "stream",
     "text": [
      "Processing bus.itinerary_1...\n",
      "File modified successfully!\n",
      "Processing bus.itinerary_2...\n",
      "File modified successfully!\n",
      "Processing bus.itinerary_3...\n",
      "File modified successfully!\n",
      "Processing bus.itinerary_4...\n",
      "File modified successfully!\n",
      "All done!\n"
     ]
    }
   ],
   "source": [
    "# Add this cell after your existing cells\n",
    "def modify_ttf_in_itinerary(file_path, target_links):\n",
    "    \"\"\"\n",
    "    Reads bus itinerary file and changes ttf=1 to ttf=2 for node-to-node links\n",
    "    that are in the target_links list.\n",
    "    \"\"\"\n",
    "    \n",
    "    with open(file_path, 'r') as file:\n",
    "        lines = file.readlines()\n",
    "    \n",
    "    modified_lines = []\n",
    "    prev_node = None\n",
    "    prev_line = None\n",
    "    for line in lines:\n",
    "        line_s = line.strip()\n",
    "        \n",
    "        # Check if this line contains a node (starts with a number)\n",
    "        if line_s and line_s.split()[0].isdigit():\n",
    "            curr_node = int(line_s.split()[0])\n",
    "            # If we have a previous node, check if this link needs modification\n",
    "            if prev_node is not None:\n",
    "                curr_link = [prev_node, curr_node]\n",
    "                # Check if this link is in our target list\n",
    "                if curr_link in target_links:\n",
    "                    # Replace ttf=1 with ttf=2\n",
    "                    prev_line = prev_line.replace('ttf=1', 'ttf=2')\n",
    "                    modified_lines[-1] = prev_line\n",
    "                    # print(f'\\tModified link {prev_node} -> {curr_node}: changed ttf=1 to ttf=2')\n",
    "            \n",
    "            prev_node = curr_node\n",
    "        \n",
    "        elif line_s.startswith('a'):\n",
    "            # print(line_s)\n",
    "            prev_node = None\n",
    "        \n",
    "        else:\n",
    "            prev_node = None\n",
    "            \n",
    "        prev_line = line\n",
    "        \n",
    "        modified_lines.append(line)\n",
    "    \n",
    "    # Write back to file\n",
    "    with open(file_path, 'w') as file:\n",
    "        file.writelines(modified_lines)\n",
    "    \n",
    "    print(f\"File modified successfully!\")\n",
    "\n",
    "# Apply the modification\n",
    "for file in itin_files:\n",
    "    print(f'Processing {file}...')\n",
    "    modify_ttf_in_itinerary(os.path.join(batchin_file_dir, file), links)\n",
    "    \n",
    "print('All done!')"
   ]
  },
  {
   "cell_type": "code",
   "execution_count": null,
   "id": "9e286ea4",
   "metadata": {},
   "outputs": [],
   "source": []
  },
  {
   "cell_type": "code",
   "execution_count": null,
   "id": "9c6be948",
   "metadata": {},
   "outputs": [],
   "source": [
    "links"
   ]
  },
  {
   "cell_type": "code",
   "execution_count": null,
   "id": "1fad9e49",
   "metadata": {},
   "outputs": [],
   "source": []
  }
 ],
 "metadata": {
  "kernelspec": {
   "display_name": "arcgispro-py3-mine",
   "language": "python",
   "name": "python3"
  },
  "language_info": {
   "codemirror_mode": {
    "name": "ipython",
    "version": 3
   },
   "file_extension": ".py",
   "mimetype": "text/x-python",
   "name": "python",
   "nbconvert_exporter": "python",
   "pygments_lexer": "ipython3",
   "version": "3.11.10"
  }
 },
 "nbformat": 4,
 "nbformat_minor": 5
}
